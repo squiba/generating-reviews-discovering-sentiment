{
 "cells": [
  {
   "cell_type": "markdown",
   "metadata": {},
   "source": [
    "# Converting Text to features"
   ]
  },
  {
   "cell_type": "code",
   "execution_count": null,
   "metadata": {
    "collapsed": true
   },
   "outputs": [],
   "source": [
    "import warnings\n",
    "warnings.filterwarnings('ignore')\n",
    "from encoder import Model\n",
    "model = Model()\n",
    "\n",
    "import pandas as pd\n",
    "import numpy as np\n",
    "df = pd.read_csv('final_data1.csv')\n",
    "questions = np.array(df['0'])\n",
    "features = model.transform(questions)\n",
    "np.save('final_data1_features',features)\n",
    "features = np.load('final_data1_features')"
   ]
  },
  {
   "cell_type": "markdown",
   "metadata": {},
   "source": [
    "# Findind similar questions"
   ]
  },
  {
   "cell_type": "code",
   "execution_count": null,
   "metadata": {
    "collapsed": false
   },
   "outputs": [],
   "source": [
    "from sklearn.metrics.pairwise import cosine_similarity\n",
    "\n",
    "#np.array([1,3,2,4,5]).argsort()[-5:][::-2]\n",
    "def get_qus(text):\n",
    "    test_fea = model.transform(text)\n",
    "    sim_list = np.empty([len(features)])\n",
    "    for i in range(len(features)):\n",
    "        sim_list[i] = cosine_similarity(test_fea,features[i])\n",
    "    x = sim_list.argsort()\n",
    "    return x[-5:]\n",
    "\n",
    "query = [\"is abortion safe?\"]\n",
    "similar_ques  = get_qus(query)\n",
    "questions[similar_ques]"
   ]
  },
  {
   "cell_type": "code",
   "execution_count": null,
   "metadata": {
    "collapsed": true
   },
   "outputs": [],
   "source": [
    "df2 = pd.read_csv('data.csv')\n",
    "questions2 = np.array(df2['0'])\n",
    "q_vec = model.transform(questions2)\n",
    "np.save(\"data_fea\",q_vec)\n",
    "\n",
    "def similar(text):\n",
    "    vec = model.transform(text)\n",
    "    for i in range(len(questions)):\n",
    "        print(cosine_similarity(vec,q_vec[i]))\n",
    "def get_qus_all(text):\n",
    "    test_fea = model.transform(text)\n",
    "    sim_list = np.empty([344])\n",
    "    for i in range(155):\n",
    "        sim_list[i] = cosine_similarity(test_fea,q_vec[i])\n",
    "    for i in range(189):\n",
    "        sim_list[155+i] = cosine_similarity(test_fea,features[i])\n",
    "    x = sim_list.argsort()\n",
    "    return x[-5:]"
   ]
  },
  {
   "cell_type": "code",
   "execution_count": null,
   "metadata": {
    "collapsed": false
   },
   "outputs": [],
   "source": [
    "qs = get_qus_all([\"tell me about french kissing?\"])\n",
    "print(qs)\n",
    "for i in qs:\n",
    "    if i<155:\n",
    "        print(questions[i])\n",
    "    else:\n",
    "        print(questions2[i-155])"
   ]
  },
  {
   "cell_type": "markdown",
   "metadata": {},
   "source": [
    "# Tensorflow data feeding"
   ]
  },
  {
   "cell_type": "code",
   "execution_count": 1,
   "metadata": {
    "collapsed": true
   },
   "outputs": [],
   "source": [
    "import tensorflow as tf\n",
    "import numpy as np\n",
    "my_data = np.load('data_fea.npy')"
   ]
  },
  {
   "cell_type": "code",
   "execution_count": 2,
   "metadata": {
    "collapsed": false
   },
   "outputs": [
    {
     "data": {
      "text/plain": [
       "155"
      ]
     },
     "execution_count": 2,
     "metadata": {},
     "output_type": "execute_result"
    }
   ],
   "source": [
    "len(my_data)"
   ]
  },
  {
   "cell_type": "code",
   "execution_count": 37,
   "metadata": {
    "collapsed": false
   },
   "outputs": [
    {
     "name": "stdout",
     "output_type": "stream",
     "text": [
      "WARNING:tensorflow:From <ipython-input-37-655ede076347>:5 in <module>.: initialize_all_variables (from tensorflow.python.ops.variables) is deprecated and will be removed after 2017-03-02.\n",
      "Instructions for updating:\n",
      "Use `tf.global_variables_initializer` instead.\n",
      "[[ 0.5  0.5]\n",
      " [ 0.5  0.5]\n",
      " [ 0.5  0.5]\n",
      " [ 0.5  0.5]\n",
      " [ 0.5  0.5]\n",
      " [ 0.5  0.5]\n",
      " [ 0.5  0.5]\n",
      " [ 0.5  0.5]\n",
      " [ 0.5  0.5]\n",
      " [ 0.5  0.5]]\n"
     ]
    }
   ],
   "source": [
    "x= tf.placeholder(tf.float32,[None,4096])\n",
    "w = tf.Variable(tf.ones([4096,2]))\n",
    "y = tf.nn.softmax(tf.matmul(x,w))\n",
    "\n",
    "init = tf.initialize_all_variables()\n",
    "\n",
    "with tf.Session() as sess:\n",
    "    sess.run(init)\n",
    "    y = sess.run(y,feed_dict = {x:my_data[10:20]})\n",
    "    print(y)"
   ]
  },
  {
   "cell_type": "code",
   "execution_count": 32,
   "metadata": {
    "collapsed": false
   },
   "outputs": [
    {
     "name": "stdout",
     "output_type": "stream",
     "text": [
      "WARNING:tensorflow:From <ipython-input-32-24cb6c07e5f9>:6 in <module>.: initialize_all_variables (from tensorflow.python.ops.variables) is deprecated and will be removed after 2017-03-02.\n",
      "Instructions for updating:\n",
      "Use `tf.global_variables_initializer` instead.\n"
     ]
    },
    {
     "data": {
      "text/plain": [
       "array([[-38.20014572, -38.20014572],\n",
       "       [-54.34017563, -54.34017563],\n",
       "       [-12.71703529, -12.71703529],\n",
       "       [-43.32466507, -43.32466507],\n",
       "       [-28.31352234, -28.31352234],\n",
       "       [-13.25005913, -13.25005913],\n",
       "       [-46.45652771, -46.45652771],\n",
       "       [-52.85400391, -52.85400391],\n",
       "       [-72.90216827, -72.90216827],\n",
       "       [-45.32616425, -45.32616425],\n",
       "       [-44.99248123, -44.99248123],\n",
       "       [-31.51925468, -31.51925468],\n",
       "       [-14.92859745, -14.92859745],\n",
       "       [-52.67435837, -52.67435837],\n",
       "       [-60.89894485, -60.89894485],\n",
       "       [-62.24778748, -62.24778748],\n",
       "       [-58.33148956, -58.33148956],\n",
       "       [-65.78419495, -65.78419495],\n",
       "       [-45.58614349, -45.58614349],\n",
       "       [-20.04774475, -20.04774475],\n",
       "       [-41.36686707, -41.36686707],\n",
       "       [-47.12547302, -47.12547302],\n",
       "       [-43.39011765, -43.39011765],\n",
       "       [-39.93024063, -39.93024063],\n",
       "       [-49.51557159, -49.51557159],\n",
       "       [-47.54880524, -47.54880524],\n",
       "       [-23.11667633, -23.11667633],\n",
       "       [-47.86746979, -47.86746979],\n",
       "       [-58.6146698 , -58.6146698 ],\n",
       "       [-53.27175522, -53.27175522],\n",
       "       [-46.43008423, -46.43008423],\n",
       "       [-45.32373047, -45.32373047],\n",
       "       [-44.89282608, -44.89282608],\n",
       "       [-71.66983795, -71.66983795],\n",
       "       [-69.33264923, -69.33264923],\n",
       "       [-64.99935913, -64.99935913],\n",
       "       [-56.13179779, -56.13179779],\n",
       "       [-45.86031723, -45.86031723],\n",
       "       [-49.42824554, -49.42824554],\n",
       "       [-57.01649475, -57.01649475],\n",
       "       [-50.94179916, -50.94179916],\n",
       "       [-48.98249054, -48.98249054],\n",
       "       [-20.91980553, -20.91980553],\n",
       "       [-12.44061279, -12.44061279],\n",
       "       [ -8.36833572,  -8.36833572],\n",
       "       [-66.43683624, -66.43683624],\n",
       "       [-66.64665985, -66.64665985],\n",
       "       [-20.24662781, -20.24662781],\n",
       "       [-46.06039429, -46.06039429],\n",
       "       [-45.72052002, -45.72052002],\n",
       "       [-42.75843811, -42.75843811],\n",
       "       [-47.84405899, -47.84405899],\n",
       "       [-46.70518875, -46.70518875],\n",
       "       [ -0.29044771,  -0.29044771],\n",
       "       [-26.55336761, -26.55336761],\n",
       "       [-38.01054001, -38.01054001],\n",
       "       [-35.38359833, -35.38359833],\n",
       "       [-38.03289032, -38.03289032],\n",
       "       [-41.65186691, -41.65186691],\n",
       "       [-32.55728149, -32.55728149],\n",
       "       [-45.73696899, -45.73696899],\n",
       "       [-10.90952015, -10.90952015],\n",
       "       [-21.59612656, -21.59612656],\n",
       "       [-39.55619812, -39.55619812],\n",
       "       [-26.90558052, -26.90558052],\n",
       "       [ -8.86092377,  -8.86092377],\n",
       "       [-28.85433006, -28.85433006],\n",
       "       [-27.03571892, -27.03571892],\n",
       "       [-26.49661446, -26.49661446],\n",
       "       [-25.891716  , -25.891716  ],\n",
       "       [-43.01851273, -43.01851273],\n",
       "       [-25.58342743, -25.58342743],\n",
       "       [-26.24279785, -26.24279785],\n",
       "       [-24.06887436, -24.06887436],\n",
       "       [-38.34165573, -38.34165573],\n",
       "       [-25.2714901 , -25.2714901 ],\n",
       "       [-23.06984329, -23.06984329],\n",
       "       [-37.3991394 , -37.3991394 ],\n",
       "       [-39.73281479, -39.73281479],\n",
       "       [-37.22477722, -37.22477722],\n",
       "       [-33.14292145, -33.14292145],\n",
       "       [-45.62252808, -45.62252808],\n",
       "       [-37.07081604, -37.07081604],\n",
       "       [-48.28527069, -48.28527069],\n",
       "       [-50.92279053, -50.92279053],\n",
       "       [-31.74969101, -31.74969101],\n",
       "       [-26.52067947, -26.52067947],\n",
       "       [-20.27247047, -20.27247047],\n",
       "       [-29.16375732, -29.16375732],\n",
       "       [-35.25205231, -35.25205231],\n",
       "       [-33.54122925, -33.54122925],\n",
       "       [-42.98625565, -42.98625565],\n",
       "       [-54.37194061, -54.37194061],\n",
       "       [-44.12020874, -44.12020874],\n",
       "       [-37.25650787, -37.25650787],\n",
       "       [-65.37914276, -65.37914276],\n",
       "       [-45.41311264, -45.41311264],\n",
       "       [-44.96799469, -44.96799469],\n",
       "       [-66.17909241, -66.17909241],\n",
       "       [-41.23022461, -41.23022461],\n",
       "       [  2.97897577,   2.97897577],\n",
       "       [  3.65909052,   3.65909052],\n",
       "       [-26.99851227, -26.99851227],\n",
       "       [-31.16215134, -31.16215134],\n",
       "       [-22.71748161, -22.71748161],\n",
       "       [-21.67008209, -21.67008209],\n",
       "       [-44.18789673, -44.18789673],\n",
       "       [-19.75763702, -19.75763702],\n",
       "       [-41.76519775, -41.76519775],\n",
       "       [-31.29575348, -31.29575348],\n",
       "       [-46.48017883, -46.48017883],\n",
       "       [-25.92729187, -25.92729187],\n",
       "       [-42.58395004, -42.58395004],\n",
       "       [-26.61188889, -26.61188889],\n",
       "       [-37.66150665, -37.66150665],\n",
       "       [-37.04568863, -37.04568863],\n",
       "       [-34.09540558, -34.09540558],\n",
       "       [-55.30712509, -55.30712509],\n",
       "       [-38.6625061 , -38.6625061 ],\n",
       "       [-39.15880585, -39.15880585],\n",
       "       [-39.6426239 , -39.6426239 ],\n",
       "       [-33.58012009, -33.58012009],\n",
       "       [-28.35705185, -28.35705185],\n",
       "       [-16.93143272, -16.93143272],\n",
       "       [-14.64733887, -14.64733887],\n",
       "       [-31.66589165, -31.66589165],\n",
       "       [-53.65150452, -53.65150452],\n",
       "       [-53.09002304, -53.09002304],\n",
       "       [-51.87090683, -51.87090683],\n",
       "       [-26.17299271, -26.17299271],\n",
       "       [-18.11676788, -18.11676788],\n",
       "       [-21.11997414, -21.11997414],\n",
       "       [-16.36105156, -16.36105156],\n",
       "       [-59.20660782, -59.20660782],\n",
       "       [-25.88521576, -25.88521576],\n",
       "       [-50.33968353, -50.33968353],\n",
       "       [-41.78040314, -41.78040314],\n",
       "       [-43.67671967, -43.67671967],\n",
       "       [-29.50255013, -29.50255013],\n",
       "       [-43.52252197, -43.52252197],\n",
       "       [-33.59223175, -33.59223175],\n",
       "       [-13.24681091, -13.24681091],\n",
       "       [-48.71905136, -48.71905136],\n",
       "       [-42.01185226, -42.01185226],\n",
       "       [-19.80490112, -19.80490112],\n",
       "       [-45.82752228, -45.82752228],\n",
       "       [-55.88949966, -55.88949966],\n",
       "       [-36.94989014, -36.94989014],\n",
       "       [-42.4356308 , -42.4356308 ],\n",
       "       [-21.31820679, -21.31820679],\n",
       "       [-23.7509861 , -23.7509861 ],\n",
       "       [-30.69010162, -30.69010162],\n",
       "       [-25.59988403, -25.59988403],\n",
       "       [-26.32824135, -26.32824135],\n",
       "       [-36.08517456, -36.08517456]], dtype=float32)"
      ]
     },
     "execution_count": 32,
     "metadata": {},
     "output_type": "execute_result"
    }
   ],
   "source": [
    "sess = tf.Session()\n",
    "x= tf.placeholder(tf.float32,[None,4096])\n",
    "w = tf.Variable(tf.ones([4096,2]))\n",
    "y = tf.matmul(x,w)\n",
    "data_x = my_data[0]\n",
    "sess.run(tf.initialize_all_variables())\n",
    "sess.run(y,feed_dict={x:my_data})"
   ]
  },
  {
   "cell_type": "code",
   "execution_count": 28,
   "metadata": {
    "collapsed": false
   },
   "outputs": [
    {
     "data": {
      "text/plain": [
       "array([-0.01808685,  0.43451461, -0.01227654, ...,  0.92707855,\n",
       "       -0.02581446, -0.16153637], dtype=float32)"
      ]
     },
     "execution_count": 28,
     "metadata": {},
     "output_type": "execute_result"
    }
   ],
   "source": [
    "def data_iter():\n",
    "    while True:\n",
    "        for id in range(0,len(features))"
   ]
  },
  {
   "cell_type": "code",
   "execution_count": 35,
   "metadata": {
    "collapsed": false
   },
   "outputs": [],
   "source": [
    "team_id = 501351388\n",
    "password = 'jit949'"
   ]
  },
  {
   "cell_type": "code",
   "execution_count": 8,
   "metadata": {
    "collapsed": true
   },
   "outputs": [],
   "source": [
    "a = np.array([[1,2,3],[4,5,6]])"
   ]
  },
  {
   "cell_type": "code",
   "execution_count": 10,
   "metadata": {
    "collapsed": false
   },
   "outputs": [
    {
     "data": {
      "text/plain": [
       "array([[1, 2],\n",
       "       [4, 5]])"
      ]
     },
     "execution_count": 10,
     "metadata": {},
     "output_type": "execute_result"
    }
   ],
   "source": [
    "a[:,:-1]"
   ]
  },
  {
   "cell_type": "code",
   "execution_count": 43,
   "metadata": {
    "collapsed": true
   },
   "outputs": [],
   "source": [
    "import pandas as pd\n",
    "df = pd.read_csv('questions.csv')"
   ]
  },
  {
   "cell_type": "code",
   "execution_count": 56,
   "metadata": {
    "collapsed": false
   },
   "outputs": [
    {
     "data": {
      "text/plain": [
       "'Which players have scored the most goals direct from free-kicks in the premiership? (and other top leagues)'"
      ]
     },
     "execution_count": 56,
     "metadata": {},
     "output_type": "execute_result"
    }
   ],
   "source": [
    "df.iloc[20000]['question1']"
   ]
  },
  {
   "cell_type": "code",
   "execution_count": 4,
   "metadata": {
    "collapsed": true
   },
   "outputs": [],
   "source": [
    "import os\n",
    "import numpy as np"
   ]
  },
  {
   "cell_type": "code",
   "execution_count": 3,
   "metadata": {
    "collapsed": false
   },
   "outputs": [
    {
     "name": "stdout",
     "output_type": "stream",
     "text": [
      "1.xcf\n",
      "ANN.docx\n",
      "com.jpg\n",
      "1.jpeg\n",
      "hypr.pdf\n",
      "ANN.pdf\n",
      "2.jpeg\n",
      "04554208.pdf\n",
      "04220812.pdf\n",
      "ThinkandGrowRichebook.pdf\n",
      "BTPMTE2017.pdf\n",
      "Optimal Control .pdf\n",
      "Numerical Methods.pdf\n"
     ]
    }
   ],
   "source": [
    "for file in os.listdir(\"/home/squiba/Documents/\"):\n",
    "    print(file)"
   ]
  },
  {
   "cell_type": "code",
   "execution_count": 6,
   "metadata": {
    "collapsed": false
   },
   "outputs": [
    {
     "name": "stdout",
     "output_type": "stream",
     "text": [
      "4\n"
     ]
    }
   ],
   "source": [
    "x = np.ones([10000,3])\n",
    "len(x)\n",
    "import math\n",
    "print(math.ceil(3.4))"
   ]
  },
  {
   "cell_type": "code",
   "execution_count": null,
   "metadata": {
    "collapsed": true
   },
   "outputs": [],
   "source": [
    "def data_iter():\n",
    "    for datafile in os.listdir(\"quora_data\"):\n",
    "        data = np.load(datafile)\n",
    "        chunk = len(data)/batch_size\n",
    "        for i in range(chunk):\n",
    "            feature,label = data[batch_size*i:batchsize*(i+1)][:,:-1], data[chunk*i:chunk*(i+1)][:,-1:]\n",
    "            yield feature,label"
   ]
  }
 ],
 "metadata": {
  "kernelspec": {
   "display_name": "tf0.12.1",
   "language": "python",
   "name": "tf0.12.1"
  },
  "language_info": {
   "codemirror_mode": {
    "name": "ipython",
    "version": 3
   },
   "file_extension": ".py",
   "mimetype": "text/x-python",
   "name": "python",
   "nbconvert_exporter": "python",
   "pygments_lexer": "ipython3",
   "version": "3.4.5"
  },
  "widgets": {
   "state": {},
   "version": "1.1.2"
  }
 },
 "nbformat": 4,
 "nbformat_minor": 2
}
